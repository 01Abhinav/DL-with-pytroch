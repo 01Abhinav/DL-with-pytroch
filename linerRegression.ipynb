{
 "cells": [
  {
   "cell_type": "code",
   "execution_count": 149,
   "metadata": {},
   "outputs": [],
   "source": [
    "import numpy as np\n",
    "import torch\n",
    "import torch.nn as nn\n",
    "from torch.utils.data import TensorDataset\n",
    "from torch.utils.data import DataLoader\n"
   ]
  },
  {
   "cell_type": "code",
   "execution_count": 150,
   "metadata": {},
   "outputs": [],
   "source": [
    "input = np.array([[73, 67, 43], \n",
    "                   [91, 88, 64], \n",
    "                   [87, 134, 58], \n",
    "                   [102, 43, 37], \n",
    "                   [69, 96, 70]],  dtype='float32')"
   ]
  },
  {
   "cell_type": "code",
   "execution_count": 151,
   "metadata": {},
   "outputs": [],
   "source": [
    "target = np.array([[56], \n",
    "                    [81], \n",
    "                    [119], \n",
    "                    [22], \n",
    "                    [103]],  dtype='float32')"
   ]
  },
  {
   "cell_type": "code",
   "execution_count": 153,
   "metadata": {},
   "outputs": [
    {
     "name": "stdout",
     "output_type": "stream",
     "text": [
      "torch.FloatTensor\n"
     ]
    }
   ],
   "source": [
    "input = torch.from_numpy(input).float()\n",
    "target = torch.from_numpy(target).float()\n",
    "print(input.type())"
   ]
  },
  {
   "cell_type": "code",
   "execution_count": 154,
   "metadata": {},
   "outputs": [],
   "source": [
    "w=torch.randn(1,3,requires_grad=True)\n",
    "b=torch.randn(1,requires_grad=True)"
   ]
  },
  {
   "cell_type": "code",
   "execution_count": 155,
   "metadata": {},
   "outputs": [],
   "source": [
    "def model(x):\n",
    "    return x @ w.t() + b"
   ]
  },
  {
   "cell_type": "code",
   "execution_count": 156,
   "metadata": {},
   "outputs": [],
   "source": [
    "pred = model(input)"
   ]
  },
  {
   "cell_type": "code",
   "execution_count": 157,
   "metadata": {},
   "outputs": [],
   "source": [
    "def mse(pred,target):\n",
    "    diff = pred-target\n",
    "    return torch.sum(diff*diff)/diff.numel()"
   ]
  },
  {
   "cell_type": "code",
   "execution_count": 158,
   "metadata": {},
   "outputs": [],
   "source": [
    "loss = mse(pred,target)"
   ]
  },
  {
   "cell_type": "code",
   "execution_count": 159,
   "metadata": {},
   "outputs": [],
   "source": [
    "loss.backward()"
   ]
  },
  {
   "cell_type": "code",
   "execution_count": 160,
   "metadata": {},
   "outputs": [
    {
     "name": "stdout",
     "output_type": "stream",
     "text": [
      "tensor([[-40308.0078, -45698.4180, -27718.2852]])\n"
     ]
    }
   ],
   "source": [
    "print(w.grad)"
   ]
  },
  {
   "cell_type": "code",
   "execution_count": 161,
   "metadata": {},
   "outputs": [],
   "source": [
    "for i in range(1000):\n",
    "    pred = model(input)\n",
    "    loss = mse(pred,target)\n",
    "    loss.backward()\n",
    "    with torch.no_grad():\n",
    "        w -= w.grad*1e-5\n",
    "        b -= b.grad*1e-5\n",
    "        w.grad.zero_()\n",
    "        b.grad.zero_()"
   ]
  },
  {
   "cell_type": "code",
   "execution_count": 162,
   "metadata": {},
   "outputs": [
    {
     "name": "stdout",
     "output_type": "stream",
     "text": [
      "tensor(1.1069, grad_fn=<DivBackward0>)\n"
     ]
    }
   ],
   "source": [
    "print(loss)"
   ]
  },
  {
   "cell_type": "code",
   "execution_count": 163,
   "metadata": {},
   "outputs": [
    {
     "data": {
      "text/plain": [
       "tensor([[ 57.1002],\n",
       "        [ 82.0067],\n",
       "        [119.2509],\n",
       "        [ 21.2457],\n",
       "        [101.3633]], grad_fn=<AddBackward0>)"
      ]
     },
     "execution_count": 163,
     "metadata": {},
     "output_type": "execute_result"
    }
   ],
   "source": [
    "pred"
   ]
  },
  {
   "cell_type": "code",
   "execution_count": 164,
   "metadata": {},
   "outputs": [
    {
     "data": {
      "text/plain": [
       "tensor([[ 56.],\n",
       "        [ 81.],\n",
       "        [119.],\n",
       "        [ 22.],\n",
       "        [103.]])"
      ]
     },
     "execution_count": 164,
     "metadata": {},
     "output_type": "execute_result"
    }
   ],
   "source": [
    "target"
   ]
  },
  {
   "cell_type": "code",
   "execution_count": 165,
   "metadata": {},
   "outputs": [],
   "source": [
    "# Using torch.nn"
   ]
  },
  {
   "cell_type": "code",
   "execution_count": 166,
   "metadata": {},
   "outputs": [],
   "source": [
    "inputs = np.array([[73, 67, 43], \n",
    "                   [91, 88, 64], \n",
    "                   [87, 134, 58], \n",
    "                   [102, 43, 37], \n",
    "                   [69, 96, 70], \n",
    "                   [74, 66, 43], \n",
    "                   [91, 87, 65], \n",
    "                   [88, 134, 59], \n",
    "                   [101, 44, 37], \n",
    "                   [68, 96, 71], \n",
    "                   [73, 66, 44], \n",
    "                   [92, 87, 64], \n",
    "                   [87, 135, 57], \n",
    "                   [103, 43, 36], \n",
    "                   [68, 97, 70]], \n",
    "                  dtype='float32')\n",
    "\n",
    "# Targets (apples, oranges)\n",
    "targets = np.array([[56, 70], \n",
    "                    [81, 101], \n",
    "                    [119, 133], \n",
    "                    [22, 37], \n",
    "                    [103, 119],\n",
    "                    [57, 69], \n",
    "                    [80, 102], \n",
    "                    [118, 132], \n",
    "                    [21, 38], \n",
    "                    [104, 118], \n",
    "                    [57, 69], \n",
    "                    [82, 100], \n",
    "                    [118, 134], \n",
    "                    [20, 38], \n",
    "                    [102, 120]], \n",
    "                   dtype='float32')\n",
    "\n",
    "inputs = torch.from_numpy(inputs)\n",
    "targets = torch.from_numpy(targets)"
   ]
  },
  {
   "cell_type": "code",
   "execution_count": 168,
   "metadata": {},
   "outputs": [
    {
     "data": {
      "text/plain": [
       "(tensor([[ 73.,  67.,  43.],\n",
       "         [ 91.,  88.,  64.],\n",
       "         [ 87., 134.,  58.]]),\n",
       " tensor([[ 56.,  70.],\n",
       "         [ 81., 101.],\n",
       "         [119., 133.]]))"
      ]
     },
     "execution_count": 168,
     "metadata": {},
     "output_type": "execute_result"
    }
   ],
   "source": [
    "train_ds = TensorDataset(inputs, targets)\n",
    "train_ds[0:3]"
   ]
  },
  {
   "cell_type": "code",
   "execution_count": 169,
   "metadata": {},
   "outputs": [],
   "source": [
    "batch_size = 5\n",
    "train_dl = DataLoader(train_ds, batch_size , shuffle=True)"
   ]
  },
  {
   "cell_type": "code",
   "execution_count": 170,
   "metadata": {},
   "outputs": [
    {
     "name": "stdout",
     "output_type": "stream",
     "text": [
      "tensor([[101.,  44.,  37.],\n",
      "        [ 91.,  87.,  65.],\n",
      "        [ 73.,  67.,  43.],\n",
      "        [103.,  43.,  36.],\n",
      "        [ 68.,  97.,  70.]])\n",
      "tensor([[ 21.,  38.],\n",
      "        [ 80., 102.],\n",
      "        [ 56.,  70.],\n",
      "        [ 20.,  38.],\n",
      "        [102., 120.]])\n"
     ]
    }
   ],
   "source": [
    "for xb, yb in train_dl:\n",
    "    print(xb)\n",
    "    print(yb)\n",
    "    break"
   ]
  },
  {
   "cell_type": "code",
   "execution_count": 171,
   "metadata": {},
   "outputs": [
    {
     "data": {
      "text/plain": [
       "[Parameter containing:\n",
       " tensor([[-0.4743, -0.3238,  0.5498],\n",
       "         [ 0.1398, -0.3386,  0.3974]], requires_grad=True),\n",
       " Parameter containing:\n",
       " tensor([-0.2536, -0.2634], requires_grad=True)]"
      ]
     },
     "execution_count": 171,
     "metadata": {},
     "output_type": "execute_result"
    }
   ],
   "source": [
    "model = nn.Linear(3,2)\n",
    "list(model.parameters())"
   ]
  },
  {
   "cell_type": "code",
   "execution_count": 174,
   "metadata": {},
   "outputs": [],
   "source": [
    "pred=model(inputs)"
   ]
  },
  {
   "cell_type": "code",
   "execution_count": 175,
   "metadata": {},
   "outputs": [],
   "source": [
    "loss_fn = nn.functional.mse_loss"
   ]
  },
  {
   "cell_type": "code",
   "execution_count": 176,
   "metadata": {},
   "outputs": [],
   "source": [
    "loss = loss_fn(pred, targets)"
   ]
  },
  {
   "cell_type": "code",
   "execution_count": 177,
   "metadata": {},
   "outputs": [
    {
     "name": "stdout",
     "output_type": "stream",
     "text": [
      "tensor(11866.8340, grad_fn=<MseLossBackward>)\n"
     ]
    }
   ],
   "source": [
    "print(loss)"
   ]
  },
  {
   "cell_type": "code",
   "execution_count": 189,
   "metadata": {},
   "outputs": [],
   "source": [
    "opt = torch.optim.SGD(model.parameters(), lr = 1e-6)"
   ]
  },
  {
   "cell_type": "code",
   "execution_count": 190,
   "metadata": {},
   "outputs": [],
   "source": [
    "def fit(epoch_no, model, loss_fn, opt, train_dl):\n",
    "    \n",
    "    for epoch in range(epoch_no):\n",
    "        for xb,yb in train_dl:\n",
    "            \n",
    "            pred = model(xb)\n",
    "            loss = loss_fn(pred, yb)\n",
    "            loss.backward()\n",
    "            \n",
    "            opt.step()\n",
    "            opt.zero_grad()\n",
    "            \n",
    "        if (epoch+1) % 10 == 0:\n",
    "            print('Epoch [{}/{}], Loss: {:.4f}'.format(epoch+1, epoch_no, loss.item()))"
   ]
  },
  {
   "cell_type": "code",
   "execution_count": 191,
   "metadata": {},
   "outputs": [
    {
     "name": "stdout",
     "output_type": "stream",
     "text": [
      "Epoch [10/1000], Loss: 0.9182\n",
      "Epoch [20/1000], Loss: 0.8446\n",
      "Epoch [30/1000], Loss: 0.9577\n",
      "Epoch [40/1000], Loss: 0.8119\n",
      "Epoch [50/1000], Loss: 1.2637\n",
      "Epoch [60/1000], Loss: 1.4697\n",
      "Epoch [70/1000], Loss: 0.9000\n",
      "Epoch [80/1000], Loss: 0.7439\n",
      "Epoch [90/1000], Loss: 1.0726\n",
      "Epoch [100/1000], Loss: 0.7693\n",
      "Epoch [110/1000], Loss: 1.3669\n",
      "Epoch [120/1000], Loss: 1.1877\n",
      "Epoch [130/1000], Loss: 1.4509\n",
      "Epoch [140/1000], Loss: 1.1438\n",
      "Epoch [150/1000], Loss: 1.0834\n",
      "Epoch [160/1000], Loss: 0.9274\n",
      "Epoch [170/1000], Loss: 1.0044\n",
      "Epoch [180/1000], Loss: 0.8654\n",
      "Epoch [190/1000], Loss: 0.8720\n",
      "Epoch [200/1000], Loss: 0.9678\n",
      "Epoch [210/1000], Loss: 1.0087\n",
      "Epoch [220/1000], Loss: 0.8976\n",
      "Epoch [230/1000], Loss: 1.3037\n",
      "Epoch [240/1000], Loss: 0.9210\n",
      "Epoch [250/1000], Loss: 0.9693\n",
      "Epoch [260/1000], Loss: 0.8637\n",
      "Epoch [270/1000], Loss: 1.1144\n",
      "Epoch [280/1000], Loss: 1.4755\n",
      "Epoch [290/1000], Loss: 0.8425\n",
      "Epoch [300/1000], Loss: 0.9088\n",
      "Epoch [310/1000], Loss: 1.0031\n",
      "Epoch [320/1000], Loss: 0.7653\n",
      "Epoch [330/1000], Loss: 1.3990\n",
      "Epoch [340/1000], Loss: 0.9182\n",
      "Epoch [350/1000], Loss: 0.7809\n",
      "Epoch [360/1000], Loss: 1.3149\n",
      "Epoch [370/1000], Loss: 1.4169\n",
      "Epoch [380/1000], Loss: 1.0049\n",
      "Epoch [390/1000], Loss: 1.3242\n",
      "Epoch [400/1000], Loss: 1.4965\n",
      "Epoch [410/1000], Loss: 0.8922\n",
      "Epoch [420/1000], Loss: 1.0082\n",
      "Epoch [430/1000], Loss: 1.2917\n",
      "Epoch [440/1000], Loss: 1.3861\n",
      "Epoch [450/1000], Loss: 0.9782\n",
      "Epoch [460/1000], Loss: 1.3023\n",
      "Epoch [470/1000], Loss: 1.2324\n",
      "Epoch [480/1000], Loss: 1.4071\n",
      "Epoch [490/1000], Loss: 0.8097\n",
      "Epoch [500/1000], Loss: 1.2048\n",
      "Epoch [510/1000], Loss: 0.9348\n",
      "Epoch [520/1000], Loss: 1.1181\n",
      "Epoch [530/1000], Loss: 1.5150\n",
      "Epoch [540/1000], Loss: 1.3307\n",
      "Epoch [550/1000], Loss: 0.9532\n",
      "Epoch [560/1000], Loss: 0.9673\n",
      "Epoch [570/1000], Loss: 0.6700\n",
      "Epoch [580/1000], Loss: 0.9523\n",
      "Epoch [590/1000], Loss: 1.3535\n",
      "Epoch [600/1000], Loss: 1.2427\n",
      "Epoch [610/1000], Loss: 0.8180\n",
      "Epoch [620/1000], Loss: 0.8609\n",
      "Epoch [630/1000], Loss: 1.2276\n",
      "Epoch [640/1000], Loss: 0.9376\n",
      "Epoch [650/1000], Loss: 1.2639\n",
      "Epoch [660/1000], Loss: 0.9574\n",
      "Epoch [670/1000], Loss: 1.2906\n",
      "Epoch [680/1000], Loss: 0.8984\n",
      "Epoch [690/1000], Loss: 1.3499\n",
      "Epoch [700/1000], Loss: 1.0073\n",
      "Epoch [710/1000], Loss: 0.6926\n",
      "Epoch [720/1000], Loss: 1.3092\n",
      "Epoch [730/1000], Loss: 0.9502\n",
      "Epoch [740/1000], Loss: 0.9120\n",
      "Epoch [750/1000], Loss: 1.2869\n",
      "Epoch [760/1000], Loss: 1.4856\n",
      "Epoch [770/1000], Loss: 1.1482\n",
      "Epoch [780/1000], Loss: 0.8606\n",
      "Epoch [790/1000], Loss: 1.0740\n",
      "Epoch [800/1000], Loss: 1.1778\n",
      "Epoch [810/1000], Loss: 0.8185\n",
      "Epoch [820/1000], Loss: 0.9002\n",
      "Epoch [830/1000], Loss: 0.9013\n",
      "Epoch [840/1000], Loss: 1.1817\n",
      "Epoch [850/1000], Loss: 0.7889\n",
      "Epoch [860/1000], Loss: 1.0444\n",
      "Epoch [870/1000], Loss: 0.8703\n",
      "Epoch [880/1000], Loss: 0.8171\n",
      "Epoch [890/1000], Loss: 1.1009\n",
      "Epoch [900/1000], Loss: 0.7929\n",
      "Epoch [910/1000], Loss: 1.0127\n",
      "Epoch [920/1000], Loss: 0.8676\n",
      "Epoch [930/1000], Loss: 0.7148\n",
      "Epoch [940/1000], Loss: 0.8451\n",
      "Epoch [950/1000], Loss: 0.8053\n",
      "Epoch [960/1000], Loss: 1.1984\n",
      "Epoch [970/1000], Loss: 0.7973\n",
      "Epoch [980/1000], Loss: 1.0717\n",
      "Epoch [990/1000], Loss: 1.3008\n",
      "Epoch [1000/1000], Loss: 0.7216\n"
     ]
    }
   ],
   "source": [
    "fit(1000, model, loss_fn, opt, train_dl)"
   ]
  },
  {
   "cell_type": "code",
   "execution_count": 193,
   "metadata": {},
   "outputs": [
    {
     "data": {
      "text/plain": [
       "tensor([114.0549, 139.4468], grad_fn=<AddBackward0>)"
      ]
     },
     "execution_count": 193,
     "metadata": {},
     "output_type": "execute_result"
    }
   ],
   "source": [
    "x = model(torch.tensor([100., 100., 100.]))\n",
    "x"
   ]
  },
  {
   "cell_type": "code",
   "execution_count": null,
   "metadata": {},
   "outputs": [],
   "source": []
  }
 ],
 "metadata": {
  "kernelspec": {
   "display_name": "Python 3",
   "language": "python",
   "name": "python3"
  },
  "language_info": {
   "codemirror_mode": {
    "name": "ipython",
    "version": 3
   },
   "file_extension": ".py",
   "mimetype": "text/x-python",
   "name": "python",
   "nbconvert_exporter": "python",
   "pygments_lexer": "ipython3",
   "version": "3.8.5"
  }
 },
 "nbformat": 4,
 "nbformat_minor": 4
}
